{
 "cells": [
  {
   "cell_type": "code",
   "execution_count": null,
   "id": "85b927ad-8305-4858-8721-9b6e28eaad64",
   "metadata": {},
   "outputs": [],
   "source": [
    "from selenium import webdriver\n",
    "from selenium.webdriver.chrome.service import Service\n",
    "from webdriver_manager.chrome import ChromeDriverManager\n",
    "from bs4 import BeautifulSoup\n",
    "import time\n",
    "\n",
    "# Set up Selenium WebDriver\n",
    "driver = webdriver.Chrome(service=Service(ChromeDriverManager().install()))\n",
    "\n",
    "# URL for GameStop's financials page\n",
    "url = 'https://finance.yahoo.com/quote/GME/financials?p=GME'\n",
    "driver.get(url)\n",
    "\n",
    "# Allow time for the page to load\n",
    "time.sleep(5)\n",
    "\n",
    "# Parse page content\n",
    "soup = BeautifulSoup(driver.page_source, 'html.parser')\n",
    "\n",
    "# Find the table with financial data\n",
    "tables = soup.find_all('table')\n",
    "\n",
    "# Check if we have at least one table\n",
    "if len(tables) > 0:\n",
    "    revenue_table = tables[0]  # Typically, revenue data is in the first table\n",
    "    rows = revenue_table.find_all('tr')\n",
    "\n",
    "    # Extract and print the data\n",
    "    for row in rows:\n",
    "        cols = row.find_all('td')\n",
    "        data = [col.text.strip() for col in cols]\n",
    "        print(data)\n",
    "else:\n",
    "    print(\"Financial data not found.\")\n",
    "\n",
    "# Close the driver\n",
    "driver.quit()\n"
   ]
  }
 ],
 "metadata": {
  "kernelspec": {
   "display_name": "",
   "name": ""
  },
  "language_info": {
   "name": ""
  }
 },
 "nbformat": 4,
 "nbformat_minor": 5
}
