{
 "cells": [
  {
   "cell_type": "code",
   "execution_count": 1,
   "id": "d5ad9e2e-3aea-4c2c-8a9a-c2b132438586",
   "metadata": {},
   "outputs": [
    {
     "name": "stderr",
     "output_type": "stream",
     "text": [
      "[*********************100%***********************]  1 of 1 completed"
     ]
    },
    {
     "name": "stdout",
     "output_type": "stream",
     "text": [
      "Price           Close       High        Low       Open     Volume\n",
      "Ticker           TSLA       TSLA       TSLA       TSLA       TSLA\n",
      "Date                                                             \n",
      "2020-01-02  28.684000  28.713333  28.114000  28.299999  142981500\n",
      "2020-01-03  29.534000  30.266666  29.128000  29.366667  266677500\n",
      "2020-01-06  30.102667  30.104000  29.333332  29.364668  151995000\n",
      "2020-01-07  31.270666  31.441999  30.224001  30.760000  268231500\n",
      "2020-01-08  32.809334  33.232666  31.215334  31.580000  467164500\n"
     ]
    },
    {
     "name": "stderr",
     "output_type": "stream",
     "text": [
      "\n"
     ]
    }
   ],
   "source": [
    "import yfinance as yf\n",
    "\n",
    "# Fetch Tesla stock data (symbol: TSLA)\n",
    "tesla_data = yf.download('TSLA', start='2020-01-01', end='2024-01-01')\n",
    "\n",
    "# Display the first few rows of the data\n",
    "print(tesla_data.head())\n"
   ]
  },
  {
   "cell_type": "code",
   "execution_count": null,
   "id": "e1fe59bb-9e20-4212-82c6-79fe4bcfd513",
   "metadata": {},
   "outputs": [],
   "source": []
  }
 ],
 "metadata": {
  "kernelspec": {
   "display_name": "Python 3 (ipykernel)",
   "language": "python",
   "name": "python3"
  },
  "language_info": {
   "codemirror_mode": {
    "name": "ipython",
    "version": 3
   },
   "file_extension": ".py",
   "mimetype": "text/x-python",
   "name": "python",
   "nbconvert_exporter": "python",
   "pygments_lexer": "ipython3",
   "version": "3.12.4"
  }
 },
 "nbformat": 4,
 "nbformat_minor": 5
}
